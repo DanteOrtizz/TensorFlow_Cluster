{
  "nbformat": 4,
  "nbformat_minor": 0,
  "metadata": {
    "colab": {
      "provenance": []
    },
    "kernelspec": {
      "name": "python3",
      "display_name": "Python 3"
    },
    "language_info": {
      "name": "python"
    }
  },
  "cells": [
    {
      "cell_type": "markdown",
      "metadata": {
        "id": "7YT0YoVwvAko"
      },
      "source": [
        "##A larger example"
      ]
    },
    {
      "cell_type": "code",
      "metadata": {
        "id": "oFSkD7qmu5ne"
      },
      "source": [
        "import tensorflow as tf\n",
        "import pandas as pd\n",
        "import matplotlib.pyplot as plt\n",
        "from tensorflow.keras.utils import plot_model"
      ],
      "execution_count": null,
      "outputs": []
    },
    {
      "cell_type": "code",
      "metadata": {
        "colab": {
          "base_uri": "https://localhost:8080/",
          "height": 419
        },
        "id": "4sp0aQJLvSHZ",
        "outputId": "697f5322-e2a7-4ef4-8c0b-466d8bd8bea0"
      },
      "source": [
        "#Reading the file\n",
        "insurance = pd.read_csv(\"https://raw.githubusercontent.com/stedy/Machine-Learning-with-R-datasets/master/insurance.csv\")\n",
        "insurance"
      ],
      "execution_count": null,
      "outputs": [
        {
          "output_type": "execute_result",
          "data": {
            "text/html": [
              "<div>\n",
              "<style scoped>\n",
              "    .dataframe tbody tr th:only-of-type {\n",
              "        vertical-align: middle;\n",
              "    }\n",
              "\n",
              "    .dataframe tbody tr th {\n",
              "        vertical-align: top;\n",
              "    }\n",
              "\n",
              "    .dataframe thead th {\n",
              "        text-align: right;\n",
              "    }\n",
              "</style>\n",
              "<table border=\"1\" class=\"dataframe\">\n",
              "  <thead>\n",
              "    <tr style=\"text-align: right;\">\n",
              "      <th></th>\n",
              "      <th>age</th>\n",
              "      <th>sex</th>\n",
              "      <th>bmi</th>\n",
              "      <th>children</th>\n",
              "      <th>smoker</th>\n",
              "      <th>region</th>\n",
              "      <th>charges</th>\n",
              "    </tr>\n",
              "  </thead>\n",
              "  <tbody>\n",
              "    <tr>\n",
              "      <th>0</th>\n",
              "      <td>19</td>\n",
              "      <td>female</td>\n",
              "      <td>27.900</td>\n",
              "      <td>0</td>\n",
              "      <td>yes</td>\n",
              "      <td>southwest</td>\n",
              "      <td>16884.92400</td>\n",
              "    </tr>\n",
              "    <tr>\n",
              "      <th>1</th>\n",
              "      <td>18</td>\n",
              "      <td>male</td>\n",
              "      <td>33.770</td>\n",
              "      <td>1</td>\n",
              "      <td>no</td>\n",
              "      <td>southeast</td>\n",
              "      <td>1725.55230</td>\n",
              "    </tr>\n",
              "    <tr>\n",
              "      <th>2</th>\n",
              "      <td>28</td>\n",
              "      <td>male</td>\n",
              "      <td>33.000</td>\n",
              "      <td>3</td>\n",
              "      <td>no</td>\n",
              "      <td>southeast</td>\n",
              "      <td>4449.46200</td>\n",
              "    </tr>\n",
              "    <tr>\n",
              "      <th>3</th>\n",
              "      <td>33</td>\n",
              "      <td>male</td>\n",
              "      <td>22.705</td>\n",
              "      <td>0</td>\n",
              "      <td>no</td>\n",
              "      <td>northwest</td>\n",
              "      <td>21984.47061</td>\n",
              "    </tr>\n",
              "    <tr>\n",
              "      <th>4</th>\n",
              "      <td>32</td>\n",
              "      <td>male</td>\n",
              "      <td>28.880</td>\n",
              "      <td>0</td>\n",
              "      <td>no</td>\n",
              "      <td>northwest</td>\n",
              "      <td>3866.85520</td>\n",
              "    </tr>\n",
              "    <tr>\n",
              "      <th>...</th>\n",
              "      <td>...</td>\n",
              "      <td>...</td>\n",
              "      <td>...</td>\n",
              "      <td>...</td>\n",
              "      <td>...</td>\n",
              "      <td>...</td>\n",
              "      <td>...</td>\n",
              "    </tr>\n",
              "    <tr>\n",
              "      <th>1333</th>\n",
              "      <td>50</td>\n",
              "      <td>male</td>\n",
              "      <td>30.970</td>\n",
              "      <td>3</td>\n",
              "      <td>no</td>\n",
              "      <td>northwest</td>\n",
              "      <td>10600.54830</td>\n",
              "    </tr>\n",
              "    <tr>\n",
              "      <th>1334</th>\n",
              "      <td>18</td>\n",
              "      <td>female</td>\n",
              "      <td>31.920</td>\n",
              "      <td>0</td>\n",
              "      <td>no</td>\n",
              "      <td>northeast</td>\n",
              "      <td>2205.98080</td>\n",
              "    </tr>\n",
              "    <tr>\n",
              "      <th>1335</th>\n",
              "      <td>18</td>\n",
              "      <td>female</td>\n",
              "      <td>36.850</td>\n",
              "      <td>0</td>\n",
              "      <td>no</td>\n",
              "      <td>southeast</td>\n",
              "      <td>1629.83350</td>\n",
              "    </tr>\n",
              "    <tr>\n",
              "      <th>1336</th>\n",
              "      <td>21</td>\n",
              "      <td>female</td>\n",
              "      <td>25.800</td>\n",
              "      <td>0</td>\n",
              "      <td>no</td>\n",
              "      <td>southwest</td>\n",
              "      <td>2007.94500</td>\n",
              "    </tr>\n",
              "    <tr>\n",
              "      <th>1337</th>\n",
              "      <td>61</td>\n",
              "      <td>female</td>\n",
              "      <td>29.070</td>\n",
              "      <td>0</td>\n",
              "      <td>yes</td>\n",
              "      <td>northwest</td>\n",
              "      <td>29141.36030</td>\n",
              "    </tr>\n",
              "  </tbody>\n",
              "</table>\n",
              "<p>1338 rows × 7 columns</p>\n",
              "</div>"
            ],
            "text/plain": [
              "      age     sex     bmi  children smoker     region      charges\n",
              "0      19  female  27.900         0    yes  southwest  16884.92400\n",
              "1      18    male  33.770         1     no  southeast   1725.55230\n",
              "2      28    male  33.000         3     no  southeast   4449.46200\n",
              "3      33    male  22.705         0     no  northwest  21984.47061\n",
              "4      32    male  28.880         0     no  northwest   3866.85520\n",
              "...   ...     ...     ...       ...    ...        ...          ...\n",
              "1333   50    male  30.970         3     no  northwest  10600.54830\n",
              "1334   18  female  31.920         0     no  northeast   2205.98080\n",
              "1335   18  female  36.850         0     no  southeast   1629.83350\n",
              "1336   21  female  25.800         0     no  southwest   2007.94500\n",
              "1337   61  female  29.070         0    yes  northwest  29141.36030\n",
              "\n",
              "[1338 rows x 7 columns]"
            ]
          },
          "metadata": {},
          "execution_count": 2
        }
      ]
    },
    {
      "cell_type": "code",
      "metadata": {
        "colab": {
          "base_uri": "https://localhost:8080/",
          "height": 204
        },
        "id": "GpSQRo_qvrPm",
        "outputId": "3b50ce1e-436b-46f3-f166-b4d2e7076749"
      },
      "source": [
        "# One-hot enconding the dataframe\n",
        "insurance_onehot = pd.get_dummies(insurance)\n",
        "insurance_onehot.head()"
      ],
      "execution_count": null,
      "outputs": [
        {
          "output_type": "execute_result",
          "data": {
            "text/html": [
              "<div>\n",
              "<style scoped>\n",
              "    .dataframe tbody tr th:only-of-type {\n",
              "        vertical-align: middle;\n",
              "    }\n",
              "\n",
              "    .dataframe tbody tr th {\n",
              "        vertical-align: top;\n",
              "    }\n",
              "\n",
              "    .dataframe thead th {\n",
              "        text-align: right;\n",
              "    }\n",
              "</style>\n",
              "<table border=\"1\" class=\"dataframe\">\n",
              "  <thead>\n",
              "    <tr style=\"text-align: right;\">\n",
              "      <th></th>\n",
              "      <th>age</th>\n",
              "      <th>bmi</th>\n",
              "      <th>children</th>\n",
              "      <th>charges</th>\n",
              "      <th>sex_female</th>\n",
              "      <th>sex_male</th>\n",
              "      <th>smoker_no</th>\n",
              "      <th>smoker_yes</th>\n",
              "      <th>region_northeast</th>\n",
              "      <th>region_northwest</th>\n",
              "      <th>region_southeast</th>\n",
              "      <th>region_southwest</th>\n",
              "    </tr>\n",
              "  </thead>\n",
              "  <tbody>\n",
              "    <tr>\n",
              "      <th>0</th>\n",
              "      <td>19</td>\n",
              "      <td>27.900</td>\n",
              "      <td>0</td>\n",
              "      <td>16884.92400</td>\n",
              "      <td>1</td>\n",
              "      <td>0</td>\n",
              "      <td>0</td>\n",
              "      <td>1</td>\n",
              "      <td>0</td>\n",
              "      <td>0</td>\n",
              "      <td>0</td>\n",
              "      <td>1</td>\n",
              "    </tr>\n",
              "    <tr>\n",
              "      <th>1</th>\n",
              "      <td>18</td>\n",
              "      <td>33.770</td>\n",
              "      <td>1</td>\n",
              "      <td>1725.55230</td>\n",
              "      <td>0</td>\n",
              "      <td>1</td>\n",
              "      <td>1</td>\n",
              "      <td>0</td>\n",
              "      <td>0</td>\n",
              "      <td>0</td>\n",
              "      <td>1</td>\n",
              "      <td>0</td>\n",
              "    </tr>\n",
              "    <tr>\n",
              "      <th>2</th>\n",
              "      <td>28</td>\n",
              "      <td>33.000</td>\n",
              "      <td>3</td>\n",
              "      <td>4449.46200</td>\n",
              "      <td>0</td>\n",
              "      <td>1</td>\n",
              "      <td>1</td>\n",
              "      <td>0</td>\n",
              "      <td>0</td>\n",
              "      <td>0</td>\n",
              "      <td>1</td>\n",
              "      <td>0</td>\n",
              "    </tr>\n",
              "    <tr>\n",
              "      <th>3</th>\n",
              "      <td>33</td>\n",
              "      <td>22.705</td>\n",
              "      <td>0</td>\n",
              "      <td>21984.47061</td>\n",
              "      <td>0</td>\n",
              "      <td>1</td>\n",
              "      <td>1</td>\n",
              "      <td>0</td>\n",
              "      <td>0</td>\n",
              "      <td>1</td>\n",
              "      <td>0</td>\n",
              "      <td>0</td>\n",
              "    </tr>\n",
              "    <tr>\n",
              "      <th>4</th>\n",
              "      <td>32</td>\n",
              "      <td>28.880</td>\n",
              "      <td>0</td>\n",
              "      <td>3866.85520</td>\n",
              "      <td>0</td>\n",
              "      <td>1</td>\n",
              "      <td>1</td>\n",
              "      <td>0</td>\n",
              "      <td>0</td>\n",
              "      <td>1</td>\n",
              "      <td>0</td>\n",
              "      <td>0</td>\n",
              "    </tr>\n",
              "  </tbody>\n",
              "</table>\n",
              "</div>"
            ],
            "text/plain": [
              "   age     bmi  children  ...  region_northwest  region_southeast  region_southwest\n",
              "0   19  27.900         0  ...                 0                 0                 1\n",
              "1   18  33.770         1  ...                 0                 1                 0\n",
              "2   28  33.000         3  ...                 0                 1                 0\n",
              "3   33  22.705         0  ...                 1                 0                 0\n",
              "4   32  28.880         0  ...                 1                 0                 0\n",
              "\n",
              "[5 rows x 12 columns]"
            ]
          },
          "metadata": {},
          "execution_count": 38
        }
      ]
    },
    {
      "cell_type": "code",
      "metadata": {
        "id": "_UMf3c2SyBL7"
      },
      "source": [
        "#Creating X and y (features and lables)\n",
        "X = insurance_onehot.drop(\"charges\", axis=1)\n",
        "y = insurance_onehot[\"charges\"]\n"
      ],
      "execution_count": null,
      "outputs": []
    },
    {
      "cell_type": "code",
      "metadata": {
        "colab": {
          "base_uri": "https://localhost:8080/"
        },
        "id": "WfOZuT2tzLw3",
        "outputId": "35b89b23-12a0-49d5-c031-bc821b6ccbb1"
      },
      "source": [
        "X.head(), y.head()"
      ],
      "execution_count": null,
      "outputs": [
        {
          "output_type": "execute_result",
          "data": {
            "text/plain": [
              "(   age     bmi  children  ...  region_northwest  region_southeast  region_southwest\n",
              " 0   19  27.900         0  ...                 0                 0                 1\n",
              " 1   18  33.770         1  ...                 0                 1                 0\n",
              " 2   28  33.000         3  ...                 0                 1                 0\n",
              " 3   33  22.705         0  ...                 1                 0                 0\n",
              " 4   32  28.880         0  ...                 1                 0                 0\n",
              " \n",
              " [5 rows x 11 columns], 0    16884.92400\n",
              " 1     1725.55230\n",
              " 2     4449.46200\n",
              " 3    21984.47061\n",
              " 4     3866.85520\n",
              " Name: charges, dtype: float64)"
            ]
          },
          "metadata": {},
          "execution_count": 40
        }
      ]
    },
    {
      "cell_type": "code",
      "metadata": {
        "id": "LV1PxA_JzUmw"
      },
      "source": [
        "#Creating training and test sets\n",
        "from sklearn.model_selection import train_test_split"
      ],
      "execution_count": null,
      "outputs": []
    },
    {
      "cell_type": "code",
      "metadata": {
        "colab": {
          "base_uri": "https://localhost:8080/"
        },
        "id": "T39amSm6z1O1",
        "outputId": "c6c5f7f0-2e63-4f4e-c1e4-85f0f0c08359"
      },
      "source": [
        "X_train, X_test, y_train, y_test = train_test_split(X, y, test_size=0.2, random_state=42)\n",
        "len(X), len(X_train), len(X_test)"
      ],
      "execution_count": null,
      "outputs": [
        {
          "output_type": "execute_result",
          "data": {
            "text/plain": [
              "(1338, 1070, 268)"
            ]
          },
          "metadata": {},
          "execution_count": 42
        }
      ]
    },
    {
      "cell_type": "code",
      "metadata": {
        "colab": {
          "base_uri": "https://localhost:8080/"
        },
        "id": "GsRre8dd0yyj",
        "outputId": "a3b642ca-e2c3-450e-9d67-17ed743c68b8"
      },
      "source": [
        "#Building a neural network\n",
        "tf.random.set_seed(42)\n",
        "#1.Create a model\n",
        "insurance_model = tf.keras.Sequential([\n",
        "                                       tf.keras.layers.Dense(10),\n",
        "                                       tf.keras.layers.Dense(1)\n",
        "])\n",
        "#2.Compiling the model\n",
        "insurance_model.compile(loss=tf.keras.losses.mae,\n",
        "                        optimizer=tf.keras.optimizers.SGD(),\n",
        "                        metrics=[\"mae\"])\n",
        "#3.Fiting the model\n",
        "insurance_model.fit(X_train, y_train, epochs=100)"
      ],
      "execution_count": null,
      "outputs": [
        {
          "output_type": "stream",
          "name": "stdout",
          "text": [
            "Epoch 1/100\n",
            "34/34 [==============================] - 0s 1ms/step - loss: 8637.1006 - mae: 8637.1006\n",
            "Epoch 2/100\n",
            "34/34 [==============================] - 0s 1ms/step - loss: 7886.7759 - mae: 7886.7759\n",
            "Epoch 3/100\n",
            "34/34 [==============================] - 0s 1ms/step - loss: 7558.1470 - mae: 7558.1470\n",
            "Epoch 4/100\n",
            "34/34 [==============================] - 0s 1ms/step - loss: 7792.0220 - mae: 7792.0220\n",
            "Epoch 5/100\n",
            "34/34 [==============================] - 0s 1ms/step - loss: 7748.3887 - mae: 7748.3887\n",
            "Epoch 6/100\n",
            "34/34 [==============================] - 0s 1ms/step - loss: 7595.3940 - mae: 7595.3940\n",
            "Epoch 7/100\n",
            "34/34 [==============================] - 0s 1ms/step - loss: 7589.9844 - mae: 7589.9844\n",
            "Epoch 8/100\n",
            "34/34 [==============================] - 0s 1ms/step - loss: 7698.5576 - mae: 7698.5576\n",
            "Epoch 9/100\n",
            "34/34 [==============================] - 0s 1ms/step - loss: 7496.7778 - mae: 7496.7778\n",
            "Epoch 10/100\n",
            "34/34 [==============================] - 0s 1ms/step - loss: 7493.1743 - mae: 7493.1743\n",
            "Epoch 11/100\n",
            "34/34 [==============================] - 0s 1ms/step - loss: 7769.7295 - mae: 7769.7295\n",
            "Epoch 12/100\n",
            "34/34 [==============================] - 0s 1ms/step - loss: 7706.9028 - mae: 7706.9028\n",
            "Epoch 13/100\n",
            "34/34 [==============================] - 0s 1ms/step - loss: 7687.7231 - mae: 7687.7231\n",
            "Epoch 14/100\n",
            "34/34 [==============================] - 0s 1ms/step - loss: 7689.9004 - mae: 7689.9004\n",
            "Epoch 15/100\n",
            "34/34 [==============================] - 0s 1ms/step - loss: 7393.5327 - mae: 7393.5327\n",
            "Epoch 16/100\n",
            "34/34 [==============================] - 0s 1ms/step - loss: 7780.6987 - mae: 7780.6987\n",
            "Epoch 17/100\n",
            "34/34 [==============================] - 0s 1ms/step - loss: 7578.5098 - mae: 7578.5098\n",
            "Epoch 18/100\n",
            "34/34 [==============================] - 0s 1ms/step - loss: 7750.8354 - mae: 7750.8354\n",
            "Epoch 19/100\n",
            "34/34 [==============================] - 0s 1ms/step - loss: 7739.2144 - mae: 7739.2144\n",
            "Epoch 20/100\n",
            "34/34 [==============================] - 0s 1ms/step - loss: 7875.0654 - mae: 7875.0654\n",
            "Epoch 21/100\n",
            "34/34 [==============================] - 0s 1ms/step - loss: 7466.6768 - mae: 7466.6768\n",
            "Epoch 22/100\n",
            "34/34 [==============================] - 0s 1ms/step - loss: 7941.2329 - mae: 7941.2329\n",
            "Epoch 23/100\n",
            "34/34 [==============================] - 0s 1ms/step - loss: 7640.2725 - mae: 7640.2725\n",
            "Epoch 24/100\n",
            "34/34 [==============================] - 0s 1ms/step - loss: 7539.2671 - mae: 7539.2671\n",
            "Epoch 25/100\n",
            "34/34 [==============================] - 0s 1ms/step - loss: 7619.9653 - mae: 7619.9653\n",
            "Epoch 26/100\n",
            "34/34 [==============================] - 0s 1ms/step - loss: 7644.1719 - mae: 7644.1719\n",
            "Epoch 27/100\n",
            "34/34 [==============================] - 0s 1ms/step - loss: 7709.0371 - mae: 7709.0371\n",
            "Epoch 28/100\n",
            "34/34 [==============================] - 0s 1ms/step - loss: 7366.8662 - mae: 7366.8662\n",
            "Epoch 29/100\n",
            "34/34 [==============================] - 0s 1ms/step - loss: 7444.3154 - mae: 7444.3154\n",
            "Epoch 30/100\n",
            "34/34 [==============================] - 0s 1ms/step - loss: 7616.4077 - mae: 7616.4077\n",
            "Epoch 31/100\n",
            "34/34 [==============================] - 0s 1ms/step - loss: 7686.3853 - mae: 7686.3853\n",
            "Epoch 32/100\n",
            "34/34 [==============================] - 0s 2ms/step - loss: 7548.0977 - mae: 7548.0977\n",
            "Epoch 33/100\n",
            "34/34 [==============================] - 0s 1ms/step - loss: 7501.5532 - mae: 7501.5532\n",
            "Epoch 34/100\n",
            "34/34 [==============================] - 0s 1ms/step - loss: 7363.4160 - mae: 7363.4160\n",
            "Epoch 35/100\n",
            "34/34 [==============================] - 0s 1ms/step - loss: 7295.4478 - mae: 7295.4478\n",
            "Epoch 36/100\n",
            "34/34 [==============================] - 0s 1ms/step - loss: 7569.8813 - mae: 7569.8813\n",
            "Epoch 37/100\n",
            "34/34 [==============================] - 0s 1ms/step - loss: 7548.1997 - mae: 7548.1997\n",
            "Epoch 38/100\n",
            "34/34 [==============================] - 0s 1ms/step - loss: 7424.3975 - mae: 7424.3975\n",
            "Epoch 39/100\n",
            "34/34 [==============================] - 0s 1ms/step - loss: 7529.7734 - mae: 7529.7734\n",
            "Epoch 40/100\n",
            "34/34 [==============================] - 0s 1ms/step - loss: 7467.3232 - mae: 7467.3232\n",
            "Epoch 41/100\n",
            "34/34 [==============================] - 0s 1ms/step - loss: 7635.9292 - mae: 7635.9292\n",
            "Epoch 42/100\n",
            "34/34 [==============================] - 0s 1ms/step - loss: 7536.8398 - mae: 7536.8398\n",
            "Epoch 43/100\n",
            "34/34 [==============================] - 0s 1ms/step - loss: 7616.5859 - mae: 7616.5859\n",
            "Epoch 44/100\n",
            "34/34 [==============================] - 0s 1ms/step - loss: 7439.4941 - mae: 7439.4941\n",
            "Epoch 45/100\n",
            "34/34 [==============================] - 0s 1ms/step - loss: 7538.0151 - mae: 7538.0151\n",
            "Epoch 46/100\n",
            "34/34 [==============================] - 0s 2ms/step - loss: 7415.1470 - mae: 7415.1470\n",
            "Epoch 47/100\n",
            "34/34 [==============================] - 0s 1ms/step - loss: 7420.6938 - mae: 7420.6938\n",
            "Epoch 48/100\n",
            "34/34 [==============================] - 0s 1ms/step - loss: 7509.9839 - mae: 7509.9839\n",
            "Epoch 49/100\n",
            "34/34 [==============================] - 0s 1ms/step - loss: 7541.1133 - mae: 7541.1133\n",
            "Epoch 50/100\n",
            "34/34 [==============================] - 0s 1ms/step - loss: 7467.8643 - mae: 7467.8643\n",
            "Epoch 51/100\n",
            "34/34 [==============================] - 0s 1ms/step - loss: 7389.3560 - mae: 7389.3560\n",
            "Epoch 52/100\n",
            "34/34 [==============================] - 0s 1ms/step - loss: 7499.7749 - mae: 7499.7749\n",
            "Epoch 53/100\n",
            "34/34 [==============================] - 0s 1ms/step - loss: 7523.9282 - mae: 7523.9282\n",
            "Epoch 54/100\n",
            "34/34 [==============================] - 0s 1ms/step - loss: 7243.3115 - mae: 7243.3115\n",
            "Epoch 55/100\n",
            "34/34 [==============================] - 0s 1ms/step - loss: 7429.5864 - mae: 7429.5864\n",
            "Epoch 56/100\n",
            "34/34 [==============================] - 0s 1ms/step - loss: 7313.3999 - mae: 7313.3999\n",
            "Epoch 57/100\n",
            "34/34 [==============================] - 0s 1ms/step - loss: 7526.3877 - mae: 7526.3877\n",
            "Epoch 58/100\n",
            "34/34 [==============================] - 0s 1ms/step - loss: 7542.2666 - mae: 7542.2666\n",
            "Epoch 59/100\n",
            "34/34 [==============================] - 0s 1ms/step - loss: 7576.9277 - mae: 7576.9277\n",
            "Epoch 60/100\n",
            "34/34 [==============================] - 0s 1ms/step - loss: 7546.4048 - mae: 7546.4048\n",
            "Epoch 61/100\n",
            "34/34 [==============================] - 0s 1ms/step - loss: 7351.2261 - mae: 7351.2261\n",
            "Epoch 62/100\n",
            "34/34 [==============================] - 0s 1ms/step - loss: 7302.1436 - mae: 7302.1436\n",
            "Epoch 63/100\n",
            "34/34 [==============================] - 0s 1ms/step - loss: 7393.0879 - mae: 7393.0879\n",
            "Epoch 64/100\n",
            "34/34 [==============================] - 0s 1ms/step - loss: 7442.2881 - mae: 7442.2881\n",
            "Epoch 65/100\n",
            "34/34 [==============================] - 0s 1ms/step - loss: 7492.6782 - mae: 7492.6782\n",
            "Epoch 66/100\n",
            "34/34 [==============================] - 0s 2ms/step - loss: 7561.9165 - mae: 7561.9165\n",
            "Epoch 67/100\n",
            "34/34 [==============================] - 0s 1ms/step - loss: 7340.5137 - mae: 7340.5137\n",
            "Epoch 68/100\n",
            "34/34 [==============================] - 0s 2ms/step - loss: 7496.0845 - mae: 7496.0845\n",
            "Epoch 69/100\n",
            "34/34 [==============================] - 0s 1ms/step - loss: 7617.0303 - mae: 7617.0303\n",
            "Epoch 70/100\n",
            "34/34 [==============================] - 0s 1ms/step - loss: 7641.1948 - mae: 7641.1948\n",
            "Epoch 71/100\n",
            "34/34 [==============================] - 0s 1ms/step - loss: 7084.2744 - mae: 7084.2744\n",
            "Epoch 72/100\n",
            "34/34 [==============================] - 0s 1ms/step - loss: 7240.4902 - mae: 7240.4902\n",
            "Epoch 73/100\n",
            "34/34 [==============================] - 0s 1ms/step - loss: 7283.4888 - mae: 7283.4888\n",
            "Epoch 74/100\n",
            "34/34 [==============================] - 0s 1ms/step - loss: 7335.5083 - mae: 7335.5083\n",
            "Epoch 75/100\n",
            "34/34 [==============================] - 0s 1ms/step - loss: 7275.6392 - mae: 7275.6392\n",
            "Epoch 76/100\n",
            "34/34 [==============================] - 0s 1ms/step - loss: 7313.1860 - mae: 7313.1860\n",
            "Epoch 77/100\n",
            "34/34 [==============================] - 0s 1ms/step - loss: 7485.7588 - mae: 7485.7588\n",
            "Epoch 78/100\n",
            "34/34 [==============================] - 0s 1ms/step - loss: 7352.2803 - mae: 7352.2803\n",
            "Epoch 79/100\n",
            "34/34 [==============================] - 0s 1ms/step - loss: 7520.5703 - mae: 7520.5703\n",
            "Epoch 80/100\n",
            "34/34 [==============================] - 0s 2ms/step - loss: 7279.3779 - mae: 7279.3779\n",
            "Epoch 81/100\n",
            "34/34 [==============================] - 0s 1ms/step - loss: 7273.8477 - mae: 7273.8477\n",
            "Epoch 82/100\n",
            "34/34 [==============================] - 0s 1ms/step - loss: 7176.5215 - mae: 7176.5215\n",
            "Epoch 83/100\n",
            "34/34 [==============================] - 0s 1ms/step - loss: 7425.6289 - mae: 7425.6289\n",
            "Epoch 84/100\n",
            "34/34 [==============================] - 0s 1ms/step - loss: 7403.1294 - mae: 7403.1294\n",
            "Epoch 85/100\n",
            "34/34 [==============================] - 0s 1ms/step - loss: 7356.0088 - mae: 7356.0088\n",
            "Epoch 86/100\n",
            "34/34 [==============================] - 0s 1ms/step - loss: 7484.7271 - mae: 7484.7271\n",
            "Epoch 87/100\n",
            "34/34 [==============================] - 0s 1ms/step - loss: 7217.6074 - mae: 7217.6074\n",
            "Epoch 88/100\n",
            "34/34 [==============================] - 0s 2ms/step - loss: 7261.0000 - mae: 7261.0000\n",
            "Epoch 89/100\n",
            "34/34 [==============================] - 0s 1ms/step - loss: 7134.1562 - mae: 7134.1562\n",
            "Epoch 90/100\n",
            "34/34 [==============================] - 0s 1ms/step - loss: 7083.4360 - mae: 7083.4360\n",
            "Epoch 91/100\n",
            "34/34 [==============================] - 0s 1ms/step - loss: 7254.1782 - mae: 7254.1782\n",
            "Epoch 92/100\n",
            "34/34 [==============================] - 0s 1ms/step - loss: 7268.7456 - mae: 7268.7456\n",
            "Epoch 93/100\n",
            "34/34 [==============================] - 0s 1ms/step - loss: 7470.5220 - mae: 7470.5220\n",
            "Epoch 94/100\n",
            "34/34 [==============================] - 0s 1ms/step - loss: 7210.9536 - mae: 7210.9536\n",
            "Epoch 95/100\n",
            "34/34 [==============================] - 0s 1ms/step - loss: 7395.6816 - mae: 7395.6816\n",
            "Epoch 96/100\n",
            "34/34 [==============================] - 0s 1ms/step - loss: 7328.0884 - mae: 7328.0884\n",
            "Epoch 97/100\n",
            "34/34 [==============================] - 0s 1ms/step - loss: 7230.4380 - mae: 7230.4380\n",
            "Epoch 98/100\n",
            "34/34 [==============================] - 0s 1ms/step - loss: 7261.3936 - mae: 7261.3936\n",
            "Epoch 99/100\n",
            "34/34 [==============================] - 0s 1ms/step - loss: 7342.5684 - mae: 7342.5684\n",
            "Epoch 100/100\n",
            "34/34 [==============================] - 0s 2ms/step - loss: 7106.1714 - mae: 7106.1714\n"
          ]
        },
        {
          "output_type": "execute_result",
          "data": {
            "text/plain": [
              "<keras.callbacks.History at 0x7f8896f44450>"
            ]
          },
          "metadata": {},
          "execution_count": 43
        }
      ]
    },
    {
      "cell_type": "code",
      "metadata": {
        "colab": {
          "base_uri": "https://localhost:8080/"
        },
        "id": "c94-KLpo2vM2",
        "outputId": "5b2f18fd-58ad-4106-a943-ac9b9b75dd7d"
      },
      "source": [
        "insurance_model.summary()"
      ],
      "execution_count": null,
      "outputs": [
        {
          "output_type": "stream",
          "name": "stdout",
          "text": [
            "Model: \"sequential_5\"\n",
            "_________________________________________________________________\n",
            "Layer (type)                 Output Shape              Param #   \n",
            "=================================================================\n",
            "dense_14 (Dense)             (None, 10)                120       \n",
            "_________________________________________________________________\n",
            "dense_15 (Dense)             (None, 1)                 11        \n",
            "=================================================================\n",
            "Total params: 131\n",
            "Trainable params: 131\n",
            "Non-trainable params: 0\n",
            "_________________________________________________________________\n"
          ]
        }
      ]
    },
    {
      "cell_type": "code",
      "metadata": {
        "colab": {
          "base_uri": "https://localhost:8080/"
        },
        "id": "O00-PXsu28FI",
        "outputId": "61ef799f-e401-4b55-cc7e-f8a2108fa967"
      },
      "source": [
        "#Checking the results\n",
        "insurance_model.evaluate(X_test, y_test)"
      ],
      "execution_count": null,
      "outputs": [
        {
          "output_type": "stream",
          "name": "stdout",
          "text": [
            "9/9 [==============================] - 0s 2ms/step - loss: 7023.3291 - mae: 7023.3291\n"
          ]
        },
        {
          "output_type": "execute_result",
          "data": {
            "text/plain": [
              "[7023.3291015625, 7023.3291015625]"
            ]
          },
          "metadata": {},
          "execution_count": 45
        }
      ]
    },
    {
      "cell_type": "markdown",
      "metadata": {
        "id": "DxctPQua35HO"
      },
      "source": [
        "Trying to improve the model\n",
        "\n",
        "Running two experiments:\n",
        "1. Adding a extra layer with more hidden units\n",
        "2. Train for longer\n"
      ]
    },
    {
      "cell_type": "code",
      "metadata": {
        "id": "cgH5GTLB3QKY"
      },
      "source": [
        "#Model with hidden layers\n",
        "tf.random.set_seed(42)\n",
        "\n",
        "#1. Creat the model\n",
        "model_1_0 = tf.keras.Sequential([\n",
        "                                 tf.keras.layers.Dense(100),\n",
        "                                 tf.keras.layers.Dense(10),\n",
        "                                 tf.keras.layers.Dense(1)\n",
        "])\n",
        "\n",
        "#2. Compiling\n",
        "model_1_0.compile(loss=tf.keras.losses.mae,\n",
        "                  optimizer=tf.keras.optimizers.Adam(0.01), #SGD doesn't work with that many layers :(\n",
        "                  metrics=[\"mae\"])\n",
        "\n",
        "#3. Fiting\n",
        "history = model_1_0.fit(X_train, y_train, epochs=100, verbose=0)"
      ],
      "execution_count": null,
      "outputs": []
    },
    {
      "cell_type": "code",
      "metadata": {
        "colab": {
          "base_uri": "https://localhost:8080/"
        },
        "id": "EBHWYUzS8OVE",
        "outputId": "68890b6f-64ec-41b5-ea0d-77ccc5b9546e"
      },
      "source": [
        "model_1_0.evaluate(X_test, y_test)"
      ],
      "execution_count": null,
      "outputs": [
        {
          "output_type": "stream",
          "name": "stdout",
          "text": [
            "9/9 [==============================] - 0s 2ms/step - loss: 3167.3213 - mae: 3167.3213\n"
          ]
        },
        {
          "output_type": "execute_result",
          "data": {
            "text/plain": [
              "[3167.3212890625, 3167.3212890625]"
            ]
          },
          "metadata": {},
          "execution_count": 47
        }
      ]
    },
    {
      "cell_type": "code",
      "metadata": {
        "colab": {
          "base_uri": "https://localhost:8080/"
        },
        "id": "UhwQftq19WtC",
        "outputId": "8a5f4596-7dda-41d6-98b8-05c4457631a2"
      },
      "source": [
        "#Model with hidden layers and more epoochs\n",
        "tf.random.set_seed(42)\n",
        "\n",
        "#1. Creat the model\n",
        "model_1_1 = tf.keras.Sequential([\n",
        "                                 tf.keras.layers.Dense(100),\n",
        "                                 tf.keras.layers.Dense(10),\n",
        "                                 tf.keras.layers.Dense(1)\n",
        "])\n",
        "\n",
        "#2. Compiling\n",
        "model_1_1.compile(loss=tf.keras.losses.mae,\n",
        "                  optimizer=tf.keras.optimizers.Adam(learning_rate=0.01), #SGD doesn't work with that many layers :(\n",
        "                  metrics=[\"mae\"])\n",
        "\n",
        "#3. Fiting\n",
        "model_1_1.fit(X_train, y_train, epochs=200, verbose=0)"
      ],
      "execution_count": null,
      "outputs": [
        {
          "output_type": "execute_result",
          "data": {
            "text/plain": [
              "<keras.callbacks.History at 0x7f889757ed50>"
            ]
          },
          "metadata": {},
          "execution_count": 48
        }
      ]
    },
    {
      "cell_type": "code",
      "metadata": {
        "colab": {
          "base_uri": "https://localhost:8080/"
        },
        "id": "mVsvEoTk9hbK",
        "outputId": "1c4a6ed6-6d38-4c38-8e42-75c012a9a35e"
      },
      "source": [
        "model_1_1.evaluate(X_test, y_test)"
      ],
      "execution_count": null,
      "outputs": [
        {
          "output_type": "stream",
          "name": "stdout",
          "text": [
            "9/9 [==============================] - 0s 2ms/step - loss: 3186.3911 - mae: 3186.3911\n"
          ]
        },
        {
          "output_type": "execute_result",
          "data": {
            "text/plain": [
              "[3186.39111328125, 3186.39111328125]"
            ]
          },
          "metadata": {},
          "execution_count": 49
        }
      ]
    },
    {
      "cell_type": "code",
      "metadata": {
        "colab": {
          "base_uri": "https://localhost:8080/",
          "height": 296
        },
        "id": "WnO0pbln-Pny",
        "outputId": "56bd84ab-95a0-4004-b9e1-c6896c3f4075"
      },
      "source": [
        "#Plot history (aka trainig curve or loss curve)\n",
        "pd.DataFrame(history.history).plot()\n",
        "plt.ylabel(\"loss\")\n",
        "plt.xlabel(\"epochs\")"
      ],
      "execution_count": null,
      "outputs": [
        {
          "output_type": "execute_result",
          "data": {
            "text/plain": [
              "Text(0.5, 0, 'epochs')"
            ]
          },
          "metadata": {},
          "execution_count": 50
        },
        {
          "output_type": "display_data",
          "data": {
            "image/png": "[encoded data removed]",
            "text/plain": [
              "<Figure size 432x288 with 1 Axes>"
            ]
          },
          "metadata": {
            "needs_background": "light"
          }
        }
      ]
    },
    {
      "cell_type": "markdown",
      "metadata": {
        "id": "GYMWUbkE_RTx"
      },
      "source": [
        "> How long should you train for?\n",
        "\n",
        "It depends on the problem you are working on, but TensorFlow has a solution the 'EarlyStopping Callback'\n"
      ]
    },
    {
      "cell_type": "markdown",
      "metadata": {
        "id": "TXWRgAF1BSQF"
      },
      "source": [
        "##Preprocessing data (normalization and standardization)\n",
        "\n",
        "In terms of scaling values, neurals networks tend to prefer normalization. "
      ]
    },
    {
      "cell_type": "code",
      "metadata": {
        "colab": {
          "base_uri": "https://localhost:8080/",
          "height": 204
        },
        "id": "F2BH5BeQBbxs",
        "outputId": "72ddbcc2-30c2-4065-8a44-6039e8ef177a"
      },
      "source": [
        "import pandas as pd\n",
        "import matplotlib.pyplot as plt\n",
        "import tensorflow as tf\n",
        "\n",
        "#Reload the dataframe\n",
        "insurance = pd.read_csv(\"https://raw.githubusercontent.com/stedy/Machine-Learning-with-R-datasets/master/insurance.csv\")\n",
        "insurance.head()"
      ],
      "execution_count": null,
      "outputs": [
        {
          "output_type": "execute_result",
          "data": {
            "text/html": [
              "<div>\n",
              "<style scoped>\n",
              "    .dataframe tbody tr th:only-of-type {\n",
              "        vertical-align: middle;\n",
              "    }\n",
              "\n",
              "    .dataframe tbody tr th {\n",
              "        vertical-align: top;\n",
              "    }\n",
              "\n",
              "    .dataframe thead th {\n",
              "        text-align: right;\n",
              "    }\n",
              "</style>\n",
              "<table border=\"1\" class=\"dataframe\">\n",
              "  <thead>\n",
              "    <tr style=\"text-align: right;\">\n",
              "      <th></th>\n",
              "      <th>age</th>\n",
              "      <th>sex</th>\n",
              "      <th>bmi</th>\n",
              "      <th>children</th>\n",
              "      <th>smoker</th>\n",
              "      <th>region</th>\n",
              "      <th>charges</th>\n",
              "    </tr>\n",
              "  </thead>\n",
              "  <tbody>\n",
              "    <tr>\n",
              "      <th>0</th>\n",
              "      <td>19</td>\n",
              "      <td>female</td>\n",
              "      <td>27.900</td>\n",
              "      <td>0</td>\n",
              "      <td>yes</td>\n",
              "      <td>southwest</td>\n",
              "      <td>16884.92400</td>\n",
              "    </tr>\n",
              "    <tr>\n",
              "      <th>1</th>\n",
              "      <td>18</td>\n",
              "      <td>male</td>\n",
              "      <td>33.770</td>\n",
              "      <td>1</td>\n",
              "      <td>no</td>\n",
              "      <td>southeast</td>\n",
              "      <td>1725.55230</td>\n",
              "    </tr>\n",
              "    <tr>\n",
              "      <th>2</th>\n",
              "      <td>28</td>\n",
              "      <td>male</td>\n",
              "      <td>33.000</td>\n",
              "      <td>3</td>\n",
              "      <td>no</td>\n",
              "      <td>southeast</td>\n",
              "      <td>4449.46200</td>\n",
              "    </tr>\n",
              "    <tr>\n",
              "      <th>3</th>\n",
              "      <td>33</td>\n",
              "      <td>male</td>\n",
              "      <td>22.705</td>\n",
              "      <td>0</td>\n",
              "      <td>no</td>\n",
              "      <td>northwest</td>\n",
              "      <td>21984.47061</td>\n",
              "    </tr>\n",
              "    <tr>\n",
              "      <th>4</th>\n",
              "      <td>32</td>\n",
              "      <td>male</td>\n",
              "      <td>28.880</td>\n",
              "      <td>0</td>\n",
              "      <td>no</td>\n",
              "      <td>northwest</td>\n",
              "      <td>3866.85520</td>\n",
              "    </tr>\n",
              "  </tbody>\n",
              "</table>\n",
              "</div>"
            ],
            "text/plain": [
              "   age     sex     bmi  children smoker     region      charges\n",
              "0   19  female  27.900         0    yes  southwest  16884.92400\n",
              "1   18    male  33.770         1     no  southeast   1725.55230\n",
              "2   28    male  33.000         3     no  southeast   4449.46200\n",
              "3   33    male  22.705         0     no  northwest  21984.47061\n",
              "4   32    male  28.880         0     no  northwest   3866.85520"
            ]
          },
          "metadata": {},
          "execution_count": 51
        }
      ]
    },
    {
      "cell_type": "markdown",
      "metadata": {
        "id": "nONrOVVkGKvJ"
      },
      "source": [
        "To prepare our data we will borrow a few classes from scikit-learn."
      ]
    },
    {
      "cell_type": "code",
      "metadata": {
        "id": "_FlzRSiaGY3P"
      },
      "source": [
        "from sklearn.compose import make_column_transformer\n",
        "from sklearn.preprocessing import MinMaxScaler, OneHotEncoder\n",
        "from sklearn.model_selection import train_test_split"
      ],
      "execution_count": null,
      "outputs": []
    },
    {
      "cell_type": "code",
      "metadata": {
        "id": "dCcp0jT8Qk9I"
      },
      "source": [
        "#Create a column transformer\n",
        "ct = make_column_transformer(\n",
        "    (MinMaxScaler(), [\"age\", \"bmi\", \"children\"]), #turn all this values betwen 0 and 1\n",
        "    (OneHotEncoder(handle_unknown=\"ignore\"), [\"sex\", \"smoker\", \"region\"])\n",
        ")"
      ],
      "execution_count": null,
      "outputs": []
    },
    {
      "cell_type": "code",
      "metadata": {
        "id": "17jl23p_SAmu"
      },
      "source": [
        "#Creating x and y\n",
        "X = insurance.drop(\"charges\", axis=1)\n",
        "y = insurance[\"charges\"]"
      ],
      "execution_count": null,
      "outputs": []
    },
    {
      "cell_type": "code",
      "metadata": {
        "id": "zTYolrpKScqN"
      },
      "source": [
        "#Spliting the data\n",
        "X_train, X_test, y_train, y_test = train_test_split(X, y, test_size=0.2, random_state=42)"
      ],
      "execution_count": null,
      "outputs": []
    },
    {
      "cell_type": "code",
      "metadata": {
        "colab": {
          "base_uri": "https://localhost:8080/"
        },
        "id": "wQ_WMLI2S8x1",
        "outputId": "c01a081d-38e5-4660-9dee-856d00a62918"
      },
      "source": [
        "#Fiting the column transformer to our training data\n",
        "ct.fit(X_train)\n"
      ],
      "execution_count": null,
      "outputs": [
        {
          "output_type": "execute_result",
          "data": {
            "text/plain": [
              "ColumnTransformer(n_jobs=None, remainder='drop', sparse_threshold=0.3,\n",
              "                  transformer_weights=None,\n",
              "                  transformers=[('minmaxscaler',\n",
              "                                 MinMaxScaler(copy=True, feature_range=(0, 1)),\n",
              "                                 ['age', 'bmi', 'children']),\n",
              "                                ('onehotencoder',\n",
              "                                 OneHotEncoder(categories='auto', drop=None,\n",
              "                                               dtype=<class 'numpy.float64'>,\n",
              "                                               handle_unknown='ignore',\n",
              "                                               sparse=True),\n",
              "                                 ['sex', 'smoker', 'region'])],\n",
              "                  verbose=False)"
            ]
          },
          "metadata": {},
          "execution_count": 56
        }
      ]
    },
    {
      "cell_type": "code",
      "metadata": {
        "id": "g4zZ0XOVTTqu"
      },
      "source": [
        "#Transforming training and testing data with normalization (MinMaxScaler and OneHotEncoder)\n",
        "X_train_normal = ct.transform(X_train)\n",
        "X_test_normal = ct.transform(X_test)"
      ],
      "execution_count": null,
      "outputs": []
    },
    {
      "cell_type": "code",
      "metadata": {
        "colab": {
          "base_uri": "https://localhost:8080/"
        },
        "id": "Y6l9_FyLVQ65",
        "outputId": "ac174876-3be4-46b9-a541-c4564c5fa2a6"
      },
      "source": [
        "#How does the data look like?\n",
        "X_train_normal[0]"
      ],
      "execution_count": null,
      "outputs": [
        {
          "output_type": "execute_result",
          "data": {
            "text/plain": [
              "array([0.60869565, 0.10734463, 0.4       , 1.        , 0.        ,\n",
              "       1.        , 0.        , 0.        , 1.        , 0.        ,\n",
              "       0.        ])"
            ]
          },
          "metadata": {},
          "execution_count": 58
        }
      ]
    },
    {
      "cell_type": "code",
      "metadata": {
        "colab": {
          "base_uri": "https://localhost:8080/"
        },
        "id": "Ny6_usM_Vzoa",
        "outputId": "5dbb33fd-ba05-4360-d878-278155629b2b"
      },
      "source": [
        "#Hows the shape\n",
        "X_train.shape, X_train_normal.shape"
      ],
      "execution_count": null,
      "outputs": [
        {
          "output_type": "execute_result",
          "data": {
            "text/plain": [
              "((1070, 6), (1070, 11))"
            ]
          },
          "metadata": {},
          "execution_count": 59
        }
      ]
    },
    {
      "cell_type": "markdown",
      "metadata": {
        "id": "r450QYPYWcq3"
      },
      "source": [
        "Our data has been normalized and one hot encoded.\n",
        "Now lets build a neural network."
      ]
    },
    {
      "cell_type": "code",
      "metadata": {
        "colab": {
          "base_uri": "https://localhost:8080/"
        },
        "id": "V-4wVYM5W0__",
        "outputId": "5d494423-efe7-45ce-eff8-a8b095adf95b"
      },
      "source": [
        "#Building the neural network with the normalized data\n",
        "tf.random.set_seed(42)\n",
        "\n",
        "#1.Creating the model \n",
        "model_2 = tf.keras.Sequential([\n",
        "                               tf.keras.layers.Dense(1000),\n",
        "                               tf.keras.layers.Dense(100),\n",
        "                               tf.keras.layers.Dense(10),\n",
        "                               tf.keras.layers.Dense(1)\n",
        "])\n",
        "\n",
        "#2.Compiling\n",
        "model_2.compile(loss=tf.keras.losses.mae,\n",
        "                optimizer=tf.keras.optimizers.Adam(learning_rate=0.01),\n",
        "                metrics=[\"mae\"])\n",
        "\n",
        "#3.Fiting the model\n",
        "model_2.fit(X_train_normal, y_train ,epochs=300)"
      ],
      "execution_count": null,
      "outputs": [
        {
          "output_type": "stream",
          "name": "stdout",
          "text": [
            "Epoch 1/300\n",
            "34/34 [==============================] - 1s 4ms/step - loss: 9973.4062 - mae: 9973.4062\n",
            "Epoch 2/300\n",
            "34/34 [==============================] - 0s 4ms/step - loss: 5540.5933 - mae: 5540.5933\n",
            "Epoch 3/300\n",
            "34/34 [==============================] - 0s 4ms/step - loss: 3702.7673 - mae: 3702.7673\n",
            "Epoch 4/300\n",
            "34/34 [==============================] - 0s 3ms/step - loss: 3639.8157 - mae: 3639.8157\n",
            "Epoch 5/300\n",
            "34/34 [==============================] - 0s 4ms/step - loss: 3618.1912 - mae: 3618.1912\n",
            "Epoch 6/300\n",
            "34/34 [==============================] - 0s 4ms/step - loss: 3689.9688 - mae: 3689.9688\n",
            "Epoch 7/300\n",
            "34/34 [==============================] - 0s 3ms/step - loss: 3636.4888 - mae: 3636.4888\n",
            "Epoch 8/300\n",
            "34/34 [==============================] - 0s 4ms/step - loss: 3641.6489 - mae: 3641.6489\n",
            "Epoch 9/300\n",
            "34/34 [==============================] - 0s 4ms/step - loss: 3624.0967 - mae: 3624.0967\n",
            "Epoch 10/300\n",
            "34/34 [==============================] - 0s 4ms/step - loss: 3795.4944 - mae: 3795.4944\n",
            "Epoch 11/300\n",
            "34/34 [==============================] - 0s 4ms/step - loss: 3659.0916 - mae: 3659.0916\n",
            "Epoch 12/300\n",
            "34/34 [==============================] - 0s 4ms/step - loss: 3553.4114 - mae: 3553.4114\n",
            "Epoch 13/300\n",
            "34/34 [==============================] - 0s 4ms/step - loss: 3582.4839 - mae: 3582.4839\n",
            "Epoch 14/300\n",
            "34/34 [==============================] - 0s 4ms/step - loss: 3586.1646 - mae: 3586.1646\n",
            "Epoch 15/300\n",
            "34/34 [==============================] - 0s 4ms/step - loss: 3636.4556 - mae: 3636.4556\n",
            "Epoch 16/300\n",
            "34/34 [==============================] - 0s 4ms/step - loss: 3610.0693 - mae: 3610.0693\n",
            "Epoch 17/300\n",
            "34/34 [==============================] - 0s 4ms/step - loss: 3563.3640 - mae: 3563.3640\n",
            "Epoch 18/300\n",
            "34/34 [==============================] - 0s 4ms/step - loss: 3585.4780 - mae: 3585.4780\n",
            "Epoch 19/300\n",
            "34/34 [==============================] - 0s 3ms/step - loss: 3610.3481 - mae: 3610.3481\n",
            "Epoch 20/300\n",
            "34/34 [==============================] - 0s 4ms/step - loss: 3594.5071 - mae: 3594.5071\n",
            "Epoch 21/300\n",
            "34/34 [==============================] - 0s 4ms/step - loss: 3610.4253 - mae: 3610.4253\n",
            "Epoch 22/300\n",
            "34/34 [==============================] - 0s 4ms/step - loss: 3629.8872 - mae: 3629.8872\n",
            "Epoch 23/300\n",
            "34/34 [==============================] - 0s 3ms/step - loss: 3566.2363 - mae: 3566.2363\n",
            "Epoch 24/300\n",
            "34/34 [==============================] - 0s 4ms/step - loss: 3683.5913 - mae: 3683.5913\n",
            "Epoch 25/300\n",
            "34/34 [==============================] - 0s 4ms/step - loss: 3627.4253 - mae: 3627.4253\n",
            "Epoch 26/300\n",
            "34/34 [==============================] - 0s 4ms/step - loss: 3668.1060 - mae: 3668.1060\n",
            "Epoch 27/300\n",
            "34/34 [==============================] - 0s 3ms/step - loss: 3886.8477 - mae: 3886.8477\n",
            "Epoch 28/300\n",
            "34/34 [==============================] - 0s 4ms/step - loss: 3702.9360 - mae: 3702.9360\n",
            "Epoch 29/300\n",
            "34/34 [==============================] - 0s 4ms/step - loss: 3599.6121 - mae: 3599.6121\n",
            "Epoch 30/300\n",
            "34/34 [==============================] - 0s 3ms/step - loss: 3602.4241 - mae: 3602.4241\n",
            "Epoch 31/300\n",
            "34/34 [==============================] - 0s 4ms/step - loss: 3542.6143 - mae: 3542.6143\n",
            "Epoch 32/300\n",
            "34/34 [==============================] - 0s 3ms/step - loss: 3571.6470 - mae: 3571.6470\n",
            "Epoch 33/300\n",
            "34/34 [==============================] - 0s 4ms/step - loss: 3655.7876 - mae: 3655.7876\n",
            "Epoch 34/300\n",
            "34/34 [==============================] - 0s 4ms/step - loss: 3776.2864 - mae: 3776.2864\n",
            "Epoch 35/300\n",
            "34/34 [==============================] - 0s 3ms/step - loss: 3670.3147 - mae: 3670.3147\n",
            "Epoch 36/300\n",
            "34/34 [==============================] - 0s 4ms/step - loss: 3531.4490 - mae: 3531.4490\n",
            "Epoch 37/300\n",
            "34/34 [==============================] - 0s 3ms/step - loss: 3568.3267 - mae: 3568.3267\n",
            "Epoch 38/300\n",
            "34/34 [==============================] - 0s 3ms/step - loss: 3567.0757 - mae: 3567.0757\n",
            "Epoch 39/300\n",
            "34/34 [==============================] - 0s 3ms/step - loss: 3614.4431 - mae: 3614.4431\n",
            "Epoch 40/300\n",
            "34/34 [==============================] - 0s 4ms/step - loss: 3633.5042 - mae: 3633.5042\n",
            "Epoch 41/300\n",
            "34/34 [==============================] - 0s 4ms/step - loss: 3742.9189 - mae: 3742.9189\n",
            "Epoch 42/300\n",
            "34/34 [==============================] - 0s 4ms/step - loss: 3771.3330 - mae: 3771.3330\n",
            "Epoch 43/300\n",
            "34/34 [==============================] - 0s 4ms/step - loss: 3600.0735 - mae: 3600.0735\n",
            "Epoch 44/300\n",
            "34/34 [==============================] - 0s 4ms/step - loss: 3639.4338 - mae: 3639.4338\n",
            "Epoch 45/300\n",
            "34/34 [==============================] - 0s 3ms/step - loss: 3580.9907 - mae: 3580.9907\n",
            "Epoch 46/300\n",
            "34/34 [==============================] - 0s 4ms/step - loss: 3561.4314 - mae: 3561.4314\n",
            "Epoch 47/300\n",
            "34/34 [==============================] - 0s 4ms/step - loss: 3579.7859 - mae: 3579.7859\n",
            "Epoch 48/300\n",
            "34/34 [==============================] - 0s 4ms/step - loss: 3592.5083 - mae: 3592.5083\n",
            "Epoch 49/300\n",
            "34/34 [==============================] - 0s 4ms/step - loss: 3582.1599 - mae: 3582.1599\n",
            "Epoch 50/300\n",
            "34/34 [==============================] - 0s 4ms/step - loss: 3560.0979 - mae: 3560.0979\n",
            "Epoch 51/300\n",
            "34/34 [==============================] - 0s 4ms/step - loss: 3524.2014 - mae: 3524.2014\n",
            "Epoch 52/300\n",
            "34/34 [==============================] - 0s 4ms/step - loss: 3542.6741 - mae: 3542.6741\n",
            "Epoch 53/300\n",
            "34/34 [==============================] - 0s 4ms/step - loss: 3607.2266 - mae: 3607.2266\n",
            "Epoch 54/300\n",
            "34/34 [==============================] - 0s 4ms/step - loss: 3683.5923 - mae: 3683.5923\n",
            "Epoch 55/300\n",
            "34/34 [==============================] - 0s 4ms/step - loss: 3704.3130 - mae: 3704.3130\n",
            "Epoch 56/300\n",
            "34/34 [==============================] - 0s 4ms/step - loss: 3571.9009 - mae: 3571.9009\n",
            "Epoch 57/300\n",
            "34/34 [==============================] - 0s 4ms/step - loss: 3570.6592 - mae: 3570.6592\n",
            "Epoch 58/300\n",
            "34/34 [==============================] - 0s 3ms/step - loss: 3576.3484 - mae: 3576.3484\n",
            "Epoch 59/300\n",
            "34/34 [==============================] - 0s 4ms/step - loss: 3570.9050 - mae: 3570.9050\n",
            "Epoch 60/300\n",
            "34/34 [==============================] - 0s 3ms/step - loss: 3603.7954 - mae: 3603.7954\n",
            "Epoch 61/300\n",
            "34/34 [==============================] - 0s 4ms/step - loss: 3557.4036 - mae: 3557.4036\n",
            "Epoch 62/300\n",
            "34/34 [==============================] - 0s 4ms/step - loss: 3623.3823 - mae: 3623.3823\n",
            "Epoch 63/300\n",
            "34/34 [==============================] - 0s 4ms/step - loss: 3579.0061 - mae: 3579.0061\n",
            "Epoch 64/300\n",
            "34/34 [==============================] - 0s 4ms/step - loss: 3553.6892 - mae: 3553.6892\n",
            "Epoch 65/300\n",
            "34/34 [==============================] - 0s 4ms/step - loss: 3594.5625 - mae: 3594.5625\n",
            "Epoch 66/300\n",
            "34/34 [==============================] - 0s 4ms/step - loss: 3580.9153 - mae: 3580.9153\n",
            "Epoch 67/300\n",
            "34/34 [==============================] - 0s 4ms/step - loss: 3537.2905 - mae: 3537.2905\n",
            "Epoch 68/300\n",
            "34/34 [==============================] - 0s 3ms/step - loss: 3581.2979 - mae: 3581.2979\n",
            "Epoch 69/300\n",
            "34/34 [==============================] - 0s 4ms/step - loss: 3541.5652 - mae: 3541.5652\n",
            "Epoch 70/300\n",
            "34/34 [==============================] - 0s 4ms/step - loss: 3566.5122 - mae: 3566.5122\n",
            "Epoch 71/300\n",
            "34/34 [==============================] - 0s 4ms/step - loss: 3551.8027 - mae: 3551.8027\n",
            "Epoch 72/300\n",
            "34/34 [==============================] - 0s 4ms/step - loss: 3538.3394 - mae: 3538.3394\n",
            "Epoch 73/300\n",
            "34/34 [==============================] - 0s 4ms/step - loss: 3601.5996 - mae: 3601.5996\n",
            "Epoch 74/300\n",
            "34/34 [==============================] - 0s 3ms/step - loss: 3538.2588 - mae: 3538.2588\n",
            "Epoch 75/300\n",
            "34/34 [==============================] - 0s 3ms/step - loss: 3572.0469 - mae: 3572.0469\n",
            "Epoch 76/300\n",
            "34/34 [==============================] - 0s 4ms/step - loss: 3619.5674 - mae: 3619.5674\n",
            "Epoch 77/300\n",
            "34/34 [==============================] - 0s 4ms/step - loss: 3568.4314 - mae: 3568.4314\n",
            "Epoch 78/300\n",
            "34/34 [==============================] - 0s 4ms/step - loss: 3561.7434 - mae: 3561.7434\n",
            "Epoch 79/300\n",
            "34/34 [==============================] - 0s 3ms/step - loss: 3726.6375 - mae: 3726.6375\n",
            "Epoch 80/300\n",
            "34/34 [==============================] - 0s 4ms/step - loss: 3637.8027 - mae: 3637.8027\n",
            "Epoch 81/300\n",
            "34/34 [==============================] - 0s 3ms/step - loss: 3697.9326 - mae: 3697.9326\n",
            "Epoch 82/300\n",
            "34/34 [==============================] - 0s 4ms/step - loss: 3627.6694 - mae: 3627.6694\n",
            "Epoch 83/300\n",
            "34/34 [==============================] - 0s 3ms/step - loss: 3696.3140 - mae: 3696.3140\n",
            "Epoch 84/300\n",
            "34/34 [==============================] - 0s 4ms/step - loss: 3650.6877 - mae: 3650.6877\n",
            "Epoch 85/300\n",
            "34/34 [==============================] - 0s 4ms/step - loss: 3565.4990 - mae: 3565.4990\n",
            "Epoch 86/300\n",
            "34/34 [==============================] - 0s 4ms/step - loss: 3714.8987 - mae: 3714.8987\n",
            "Epoch 87/300\n",
            "34/34 [==============================] - 0s 3ms/step - loss: 3716.3474 - mae: 3716.3474\n",
            "Epoch 88/300\n",
            "34/34 [==============================] - 0s 4ms/step - loss: 3579.6924 - mae: 3579.6924\n",
            "Epoch 89/300\n",
            "34/34 [==============================] - 0s 3ms/step - loss: 3526.9841 - mae: 3526.9841\n",
            "Epoch 90/300\n",
            "34/34 [==============================] - 0s 4ms/step - loss: 3603.7686 - mae: 3603.7686\n",
            "Epoch 91/300\n",
            "34/34 [==============================] - 0s 4ms/step - loss: 3568.9585 - mae: 3568.9585\n",
            "Epoch 92/300\n",
            "34/34 [==============================] - 0s 4ms/step - loss: 3806.0432 - mae: 3806.0432\n",
            "Epoch 93/300\n",
            "34/34 [==============================] - 0s 4ms/step - loss: 3745.3528 - mae: 3745.3528\n",
            "Epoch 94/300\n",
            "34/34 [==============================] - 0s 4ms/step - loss: 3558.6328 - mae: 3558.6328\n",
            "Epoch 95/300\n",
            "34/34 [==============================] - 0s 3ms/step - loss: 3580.3022 - mae: 3580.3022\n",
            "Epoch 96/300\n",
            "34/34 [==============================] - 0s 4ms/step - loss: 3537.9253 - mae: 3537.9253\n",
            "Epoch 97/300\n",
            "34/34 [==============================] - 0s 3ms/step - loss: 3611.1340 - mae: 3611.1340\n",
            "Epoch 98/300\n",
            "34/34 [==============================] - 0s 4ms/step - loss: 3586.0173 - mae: 3586.0173\n",
            "Epoch 99/300\n",
            "34/34 [==============================] - 0s 4ms/step - loss: 3580.4397 - mae: 3580.4397\n",
            "Epoch 100/300\n",
            "34/34 [==============================] - 0s 3ms/step - loss: 3520.6699 - mae: 3520.6699\n",
            "Epoch 101/300\n",
            "34/34 [==============================] - 0s 3ms/step - loss: 3528.0972 - mae: 3528.0972\n",
            "Epoch 102/300\n",
            "34/34 [==============================] - 0s 4ms/step - loss: 3600.3857 - mae: 3600.3857\n",
            "Epoch 103/300\n",
            "34/34 [==============================] - 0s 4ms/step - loss: 3533.8042 - mae: 3533.8042\n",
            "Epoch 104/300\n",
            "34/34 [==============================] - 0s 4ms/step - loss: 3565.4565 - mae: 3565.4565\n",
            "Epoch 105/300\n",
            "34/34 [==============================] - 0s 4ms/step - loss: 3576.9971 - mae: 3576.9971\n",
            "Epoch 106/300\n",
            "34/34 [==============================] - 0s 4ms/step - loss: 3631.4814 - mae: 3631.4814\n",
            "Epoch 107/300\n",
            "34/34 [==============================] - 0s 3ms/step - loss: 3610.9211 - mae: 3610.9211\n",
            "Epoch 108/300\n",
            "34/34 [==============================] - 0s 4ms/step - loss: 3551.5208 - mae: 3551.5208\n",
            "Epoch 109/300\n",
            "34/34 [==============================] - 0s 3ms/step - loss: 3665.3494 - mae: 3665.3494\n",
            "Epoch 110/300\n",
            "34/34 [==============================] - 0s 3ms/step - loss: 3675.4736 - mae: 3675.4736\n",
            "Epoch 111/300\n",
            "34/34 [==============================] - 0s 4ms/step - loss: 3582.2607 - mae: 3582.2607\n",
            "Epoch 112/300\n",
            "34/34 [==============================] - 0s 4ms/step - loss: 3549.5706 - mae: 3549.5706\n",
            "Epoch 113/300\n",
            "34/34 [==============================] - 0s 4ms/step - loss: 3759.1494 - mae: 3759.1494\n",
            "Epoch 114/300\n",
            "34/34 [==============================] - 0s 4ms/step - loss: 3606.1536 - mae: 3606.1536\n",
            "Epoch 115/300\n",
            "34/34 [==============================] - 0s 4ms/step - loss: 3578.3411 - mae: 3578.3411\n",
            "Epoch 116/300\n",
            "34/34 [==============================] - 0s 3ms/step - loss: 3599.2834 - mae: 3599.2834\n",
            "Epoch 117/300\n",
            "34/34 [==============================] - 0s 3ms/step - loss: 3538.9097 - mae: 3538.9097\n",
            "Epoch 118/300\n",
            "34/34 [==============================] - 0s 4ms/step - loss: 3566.1072 - mae: 3566.1072\n",
            "Epoch 119/300\n",
            "34/34 [==============================] - 0s 4ms/step - loss: 3576.5439 - mae: 3576.5439\n",
            "Epoch 120/300\n",
            "34/34 [==============================] - 0s 4ms/step - loss: 3507.7107 - mae: 3507.7107\n",
            "Epoch 121/300\n",
            "34/34 [==============================] - 0s 4ms/step - loss: 3542.8860 - mae: 3542.8860\n",
            "Epoch 122/300\n",
            "34/34 [==============================] - 0s 4ms/step - loss: 3563.1636 - mae: 3563.1636\n",
            "Epoch 123/300\n",
            "34/34 [==============================] - 0s 4ms/step - loss: 3585.2732 - mae: 3585.2732\n",
            "Epoch 124/300\n",
            "34/34 [==============================] - 0s 3ms/step - loss: 3622.6736 - mae: 3622.6736\n",
            "Epoch 125/300\n",
            "34/34 [==============================] - 0s 4ms/step - loss: 3577.9592 - mae: 3577.9592\n",
            "Epoch 126/300\n",
            "34/34 [==============================] - 0s 3ms/step - loss: 3657.4087 - mae: 3657.4087\n",
            "Epoch 127/300\n",
            "34/34 [==============================] - 0s 4ms/step - loss: 3613.1252 - mae: 3613.1252\n",
            "Epoch 128/300\n",
            "34/34 [==============================] - 0s 4ms/step - loss: 3612.6799 - mae: 3612.6799\n",
            "Epoch 129/300\n",
            "34/34 [==============================] - 0s 4ms/step - loss: 3638.3838 - mae: 3638.3838\n",
            "Epoch 130/300\n",
            "34/34 [==============================] - 0s 3ms/step - loss: 3641.5076 - mae: 3641.5076\n",
            "Epoch 131/300\n",
            "34/34 [==============================] - 0s 4ms/step - loss: 3512.5559 - mae: 3512.5559\n",
            "Epoch 132/300\n",
            "34/34 [==============================] - 0s 4ms/step - loss: 3548.8425 - mae: 3548.8425\n",
            "Epoch 133/300\n",
            "34/34 [==============================] - 0s 3ms/step - loss: 3569.0774 - mae: 3569.0774\n",
            "Epoch 134/300\n",
            "34/34 [==============================] - 0s 4ms/step - loss: 3598.1853 - mae: 3598.1853\n",
            "Epoch 135/300\n",
            "34/34 [==============================] - 0s 3ms/step - loss: 3573.8826 - mae: 3573.8826\n",
            "Epoch 136/300\n",
            "34/34 [==============================] - 0s 4ms/step - loss: 3536.5781 - mae: 3536.5781\n",
            "Epoch 137/300\n",
            "34/34 [==============================] - 0s 4ms/step - loss: 3531.5674 - mae: 3531.5674\n",
            "Epoch 138/300\n",
            "34/34 [==============================] - 0s 4ms/step - loss: 3579.2925 - mae: 3579.2925\n",
            "Epoch 139/300\n",
            "34/34 [==============================] - 0s 4ms/step - loss: 3578.8889 - mae: 3578.8889\n",
            "Epoch 140/300\n",
            "34/34 [==============================] - 0s 4ms/step - loss: 3596.5205 - mae: 3596.5205\n",
            "Epoch 141/300\n",
            "34/34 [==============================] - 0s 4ms/step - loss: 3586.1792 - mae: 3586.1792\n",
            "Epoch 142/300\n",
            "34/34 [==============================] - 0s 4ms/step - loss: 3585.7800 - mae: 3585.7800\n",
            "Epoch 143/300\n",
            "34/34 [==============================] - 0s 4ms/step - loss: 3544.7888 - mae: 3544.7888\n",
            "Epoch 144/300\n",
            "34/34 [==============================] - 0s 4ms/step - loss: 3533.1675 - mae: 3533.1675\n",
            "Epoch 145/300\n",
            "34/34 [==============================] - 0s 4ms/step - loss: 3551.4468 - mae: 3551.4468\n",
            "Epoch 146/300\n",
            "34/34 [==============================] - 0s 3ms/step - loss: 3600.9116 - mae: 3600.9116\n",
            "Epoch 147/300\n",
            "34/34 [==============================] - 0s 4ms/step - loss: 3575.8447 - mae: 3575.8447\n",
            "Epoch 148/300\n",
            "34/34 [==============================] - 0s 4ms/step - loss: 3600.8879 - mae: 3600.8879\n",
            "Epoch 149/300\n",
            "34/34 [==============================] - 0s 4ms/step - loss: 3566.5388 - mae: 3566.5388\n",
            "Epoch 150/300\n",
            "34/34 [==============================] - 0s 4ms/step - loss: 3546.0161 - mae: 3546.0161\n",
            "Epoch 151/300\n",
            "34/34 [==============================] - 0s 4ms/step - loss: 3531.4370 - mae: 3531.4370\n",
            "Epoch 152/300\n",
            "34/34 [==============================] - 0s 4ms/step - loss: 3619.5215 - mae: 3619.5215\n",
            "Epoch 153/300\n",
            "34/34 [==============================] - 0s 4ms/step - loss: 3610.0603 - mae: 3610.0603\n",
            "Epoch 154/300\n",
            "34/34 [==============================] - 0s 4ms/step - loss: 3594.3936 - mae: 3594.3936\n",
            "Epoch 155/300\n",
            "34/34 [==============================] - 0s 4ms/step - loss: 3540.3252 - mae: 3540.3252\n",
            "Epoch 156/300\n",
            "34/34 [==============================] - 0s 4ms/step - loss: 3547.8696 - mae: 3547.8696\n",
            "Epoch 157/300\n",
            "34/34 [==============================] - 0s 4ms/step - loss: 3588.3000 - mae: 3588.3000\n",
            "Epoch 158/300\n",
            "34/34 [==============================] - 0s 3ms/step - loss: 3556.4736 - mae: 3556.4736\n",
            "Epoch 159/300\n",
            "34/34 [==============================] - 0s 4ms/step - loss: 3528.4241 - mae: 3528.4241\n",
            "Epoch 160/300\n",
            "34/34 [==============================] - 0s 4ms/step - loss: 3594.5090 - mae: 3594.5090\n",
            "Epoch 161/300\n",
            "34/34 [==============================] - 0s 4ms/step - loss: 3537.1436 - mae: 3537.1436\n",
            "Epoch 162/300\n",
            "34/34 [==============================] - 0s 4ms/step - loss: 3529.4526 - mae: 3529.4526\n",
            "Epoch 163/300\n",
            "34/34 [==============================] - 0s 4ms/step - loss: 3538.2090 - mae: 3538.2090\n",
            "Epoch 164/300\n",
            "34/34 [==============================] - 0s 4ms/step - loss: 3605.1169 - mae: 3605.1169\n",
            "Epoch 165/300\n",
            "34/34 [==============================] - 0s 3ms/step - loss: 3657.9263 - mae: 3657.9263\n",
            "Epoch 166/300\n",
            "34/34 [==============================] - 0s 4ms/step - loss: 3549.7505 - mae: 3549.7505\n",
            "Epoch 167/300\n",
            "34/34 [==============================] - 0s 4ms/step - loss: 3543.1853 - mae: 3543.1853\n",
            "Epoch 168/300\n",
            "34/34 [==============================] - 0s 4ms/step - loss: 3536.2925 - mae: 3536.2925\n",
            "Epoch 169/300\n",
            "34/34 [==============================] - 0s 3ms/step - loss: 3588.8650 - mae: 3588.8650\n",
            "Epoch 170/300\n",
            "34/34 [==============================] - 0s 4ms/step - loss: 3556.9878 - mae: 3556.9878\n",
            "Epoch 171/300\n",
            "34/34 [==============================] - 0s 3ms/step - loss: 3560.6658 - mae: 3560.6658\n",
            "Epoch 172/300\n",
            "34/34 [==============================] - 0s 4ms/step - loss: 3563.7061 - mae: 3563.7061\n",
            "Epoch 173/300\n",
            "34/34 [==============================] - 0s 4ms/step - loss: 3532.6746 - mae: 3532.6746\n",
            "Epoch 174/300\n",
            "34/34 [==============================] - 0s 4ms/step - loss: 3522.0117 - mae: 3522.0117\n",
            "Epoch 175/300\n",
            "34/34 [==============================] - 0s 4ms/step - loss: 3581.8357 - mae: 3581.8357\n",
            "Epoch 176/300\n",
            "34/34 [==============================] - 0s 4ms/step - loss: 3532.5247 - mae: 3532.5247\n",
            "Epoch 177/300\n",
            "34/34 [==============================] - 0s 4ms/step - loss: 3583.7285 - mae: 3583.7285\n",
            "Epoch 178/300\n",
            "34/34 [==============================] - 0s 4ms/step - loss: 3559.1907 - mae: 3559.1907\n",
            "Epoch 179/300\n",
            "34/34 [==============================] - 0s 4ms/step - loss: 3679.4661 - mae: 3679.4661\n",
            "Epoch 180/300\n",
            "34/34 [==============================] - 0s 4ms/step - loss: 3506.7468 - mae: 3506.7468\n",
            "Epoch 181/300\n",
            "34/34 [==============================] - 0s 3ms/step - loss: 3559.5906 - mae: 3559.5906\n",
            "Epoch 182/300\n",
            "34/34 [==============================] - 0s 4ms/step - loss: 3551.7144 - mae: 3551.7144\n",
            "Epoch 183/300\n",
            "34/34 [==============================] - 0s 4ms/step - loss: 3551.9526 - mae: 3551.9526\n",
            "Epoch 184/300\n",
            "34/34 [==============================] - 0s 4ms/step - loss: 3615.6440 - mae: 3615.6440\n",
            "Epoch 185/300\n",
            "34/34 [==============================] - 0s 4ms/step - loss: 3528.7444 - mae: 3528.7444\n",
            "Epoch 186/300\n",
            "34/34 [==============================] - 0s 4ms/step - loss: 3620.5901 - mae: 3620.5901\n",
            "Epoch 187/300\n",
            "34/34 [==============================] - 0s 4ms/step - loss: 3576.6448 - mae: 3576.6448\n",
            "Epoch 188/300\n",
            "34/34 [==============================] - 0s 4ms/step - loss: 3574.0803 - mae: 3574.0803\n",
            "Epoch 189/300\n",
            "34/34 [==============================] - 0s 4ms/step - loss: 3566.2563 - mae: 3566.2563\n",
            "Epoch 190/300\n",
            "34/34 [==============================] - 0s 4ms/step - loss: 3547.8804 - mae: 3547.8804\n",
            "Epoch 191/300\n",
            "34/34 [==============================] - 0s 4ms/step - loss: 3585.4954 - mae: 3585.4954\n",
            "Epoch 192/300\n",
            "34/34 [==============================] - 0s 4ms/step - loss: 3578.8018 - mae: 3578.8018\n",
            "Epoch 193/300\n",
            "34/34 [==============================] - 0s 3ms/step - loss: 3604.1023 - mae: 3604.1023\n",
            "Epoch 194/300\n",
            "34/34 [==============================] - 0s 4ms/step - loss: 3528.8745 - mae: 3528.8745\n",
            "Epoch 195/300\n",
            "34/34 [==============================] - 0s 3ms/step - loss: 3544.9802 - mae: 3544.9802\n",
            "Epoch 196/300\n",
            "34/34 [==============================] - 0s 4ms/step - loss: 3555.8113 - mae: 3555.8113\n",
            "Epoch 197/300\n",
            "34/34 [==============================] - 0s 4ms/step - loss: 3600.0735 - mae: 3600.0735\n",
            "Epoch 198/300\n",
            "34/34 [==============================] - 0s 4ms/step - loss: 3571.6553 - mae: 3571.6553\n",
            "Epoch 199/300\n",
            "34/34 [==============================] - 0s 4ms/step - loss: 3558.9819 - mae: 3558.9819\n",
            "Epoch 200/300\n",
            "34/34 [==============================] - 0s 3ms/step - loss: 3513.0767 - mae: 3513.0767\n",
            "Epoch 201/300\n",
            "34/34 [==============================] - 0s 4ms/step - loss: 3580.6416 - mae: 3580.6416\n",
            "Epoch 202/300\n",
            "34/34 [==============================] - 0s 4ms/step - loss: 3610.1147 - mae: 3610.1147\n",
            "Epoch 203/300\n",
            "34/34 [==============================] - 0s 4ms/step - loss: 3572.6814 - mae: 3572.6814\n",
            "Epoch 204/300\n",
            "34/34 [==============================] - 0s 4ms/step - loss: 3583.5105 - mae: 3583.5105\n",
            "Epoch 205/300\n",
            "34/34 [==============================] - 0s 4ms/step - loss: 3513.5942 - mae: 3513.5942\n",
            "Epoch 206/300\n",
            "34/34 [==============================] - 0s 4ms/step - loss: 3518.3457 - mae: 3518.3457\n",
            "Epoch 207/300\n",
            "34/34 [==============================] - 0s 4ms/step - loss: 3555.8687 - mae: 3555.8687\n",
            "Epoch 208/300\n",
            "34/34 [==============================] - 0s 4ms/step - loss: 3541.3118 - mae: 3541.3118\n",
            "Epoch 209/300\n",
            "34/34 [==============================] - 0s 4ms/step - loss: 3548.4314 - mae: 3548.4314\n",
            "Epoch 210/300\n",
            "34/34 [==============================] - 0s 4ms/step - loss: 3539.6604 - mae: 3539.6604\n",
            "Epoch 211/300\n",
            "34/34 [==============================] - 0s 4ms/step - loss: 3590.2639 - mae: 3590.2639\n",
            "Epoch 212/300\n",
            "34/34 [==============================] - 0s 4ms/step - loss: 3566.9578 - mae: 3566.9578\n",
            "Epoch 213/300\n",
            "34/34 [==============================] - 0s 4ms/step - loss: 3543.6533 - mae: 3543.6533\n",
            "Epoch 214/300\n",
            "34/34 [==============================] - 0s 4ms/step - loss: 3510.6135 - mae: 3510.6135\n",
            "Epoch 215/300\n",
            "34/34 [==============================] - 0s 3ms/step - loss: 3719.4202 - mae: 3719.4202\n",
            "Epoch 216/300\n",
            "34/34 [==============================] - 0s 4ms/step - loss: 3526.3347 - mae: 3526.3347\n",
            "Epoch 217/300\n",
            "34/34 [==============================] - 0s 4ms/step - loss: 3515.2065 - mae: 3515.2065\n",
            "Epoch 218/300\n",
            "34/34 [==============================] - 0s 4ms/step - loss: 3599.4436 - mae: 3599.4436\n",
            "Epoch 219/300\n",
            "34/34 [==============================] - 0s 4ms/step - loss: 3530.4380 - mae: 3530.4380\n",
            "Epoch 220/300\n",
            "34/34 [==============================] - 0s 4ms/step - loss: 3544.3137 - mae: 3544.3137\n",
            "Epoch 221/300\n",
            "34/34 [==============================] - 0s 4ms/step - loss: 3687.3381 - mae: 3687.3381\n",
            "Epoch 222/300\n",
            "34/34 [==============================] - 0s 4ms/step - loss: 3768.8267 - mae: 3768.8267\n",
            "Epoch 223/300\n",
            "34/34 [==============================] - 0s 4ms/step - loss: 3621.6379 - mae: 3621.6379\n",
            "Epoch 224/300\n",
            "34/34 [==============================] - 0s 4ms/step - loss: 3539.7722 - mae: 3539.7722\n",
            "Epoch 225/300\n",
            "34/34 [==============================] - 0s 4ms/step - loss: 3534.4924 - mae: 3534.4924\n",
            "Epoch 226/300\n",
            "34/34 [==============================] - 0s 4ms/step - loss: 3544.3125 - mae: 3544.3125\n",
            "Epoch 227/300\n",
            "34/34 [==============================] - 0s 4ms/step - loss: 3566.4919 - mae: 3566.4919\n",
            "Epoch 228/300\n",
            "34/34 [==============================] - 0s 4ms/step - loss: 3527.6401 - mae: 3527.6401\n",
            "Epoch 229/300\n",
            "34/34 [==============================] - 0s 4ms/step - loss: 3543.7559 - mae: 3543.7559\n",
            "Epoch 230/300\n",
            "34/34 [==============================] - 0s 4ms/step - loss: 3622.9724 - mae: 3622.9724\n",
            "Epoch 231/300\n",
            "34/34 [==============================] - 0s 4ms/step - loss: 3559.2158 - mae: 3559.2158\n",
            "Epoch 232/300\n",
            "34/34 [==============================] - 0s 4ms/step - loss: 3540.8459 - mae: 3540.8459\n",
            "Epoch 233/300\n",
            "34/34 [==============================] - 0s 4ms/step - loss: 3557.3108 - mae: 3557.3108\n",
            "Epoch 234/300\n",
            "34/34 [==============================] - 0s 4ms/step - loss: 3533.7769 - mae: 3533.7769\n",
            "Epoch 235/300\n",
            "34/34 [==============================] - 0s 4ms/step - loss: 3529.4971 - mae: 3529.4971\n",
            "Epoch 236/300\n",
            "34/34 [==============================] - 0s 4ms/step - loss: 3574.3789 - mae: 3574.3789\n",
            "Epoch 237/300\n",
            "34/34 [==============================] - 0s 4ms/step - loss: 3534.3401 - mae: 3534.3401\n",
            "Epoch 238/300\n",
            "34/34 [==============================] - 0s 4ms/step - loss: 3530.7883 - mae: 3530.7883\n",
            "Epoch 239/300\n",
            "34/34 [==============================] - 0s 4ms/step - loss: 3592.5200 - mae: 3592.5200\n",
            "Epoch 240/300\n",
            "34/34 [==============================] - 0s 4ms/step - loss: 3580.0020 - mae: 3580.0020\n",
            "Epoch 241/300\n",
            "34/34 [==============================] - 0s 4ms/step - loss: 3530.5327 - mae: 3530.5327\n",
            "Epoch 242/300\n",
            "34/34 [==============================] - 0s 4ms/step - loss: 3552.9548 - mae: 3552.9548\n",
            "Epoch 243/300\n",
            "34/34 [==============================] - 0s 4ms/step - loss: 3552.5764 - mae: 3552.5764\n",
            "Epoch 244/300\n",
            "34/34 [==============================] - 0s 4ms/step - loss: 3496.7712 - mae: 3496.7712\n",
            "Epoch 245/300\n",
            "34/34 [==============================] - 0s 3ms/step - loss: 3643.7036 - mae: 3643.7036\n",
            "Epoch 246/300\n",
            "34/34 [==============================] - 0s 4ms/step - loss: 3554.3586 - mae: 3554.3586\n",
            "Epoch 247/300\n",
            "34/34 [==============================] - 0s 4ms/step - loss: 3577.8887 - mae: 3577.8887\n",
            "Epoch 248/300\n",
            "34/34 [==============================] - 0s 4ms/step - loss: 3592.2429 - mae: 3592.2429\n",
            "Epoch 249/300\n",
            "34/34 [==============================] - 0s 4ms/step - loss: 3558.2585 - mae: 3558.2585\n",
            "Epoch 250/300\n",
            "34/34 [==============================] - 0s 4ms/step - loss: 3569.7717 - mae: 3569.7717\n",
            "Epoch 251/300\n",
            "34/34 [==============================] - 0s 4ms/step - loss: 3504.5530 - mae: 3504.5530\n",
            "Epoch 252/300\n",
            "34/34 [==============================] - 0s 4ms/step - loss: 3578.2288 - mae: 3578.2288\n",
            "Epoch 253/300\n",
            "34/34 [==============================] - 0s 4ms/step - loss: 3668.2678 - mae: 3668.2678\n",
            "Epoch 254/300\n",
            "34/34 [==============================] - 0s 4ms/step - loss: 3542.2090 - mae: 3542.2090\n",
            "Epoch 255/300\n",
            "34/34 [==============================] - 0s 4ms/step - loss: 3524.9612 - mae: 3524.9612\n",
            "Epoch 256/300\n",
            "34/34 [==============================] - 0s 4ms/step - loss: 3517.2056 - mae: 3517.2056\n",
            "Epoch 257/300\n",
            "34/34 [==============================] - 0s 4ms/step - loss: 3506.0789 - mae: 3506.0789\n",
            "Epoch 258/300\n",
            "34/34 [==============================] - 0s 4ms/step - loss: 3533.8528 - mae: 3533.8528\n",
            "Epoch 259/300\n",
            "34/34 [==============================] - 0s 4ms/step - loss: 3574.3264 - mae: 3574.3264\n",
            "Epoch 260/300\n",
            "34/34 [==============================] - 0s 4ms/step - loss: 3526.2988 - mae: 3526.2988\n",
            "Epoch 261/300\n",
            "34/34 [==============================] - 0s 4ms/step - loss: 3591.4756 - mae: 3591.4756\n",
            "Epoch 262/300\n",
            "34/34 [==============================] - 0s 4ms/step - loss: 3556.7668 - mae: 3556.7668\n",
            "Epoch 263/300\n",
            "34/34 [==============================] - 0s 4ms/step - loss: 3576.9197 - mae: 3576.9197\n",
            "Epoch 264/300\n",
            "34/34 [==============================] - 0s 4ms/step - loss: 3706.8469 - mae: 3706.8469\n",
            "Epoch 265/300\n",
            "34/34 [==============================] - 0s 4ms/step - loss: 3553.7961 - mae: 3553.7961\n",
            "Epoch 266/300\n",
            "34/34 [==============================] - 0s 4ms/step - loss: 3514.8728 - mae: 3514.8728\n",
            "Epoch 267/300\n",
            "34/34 [==============================] - 0s 4ms/step - loss: 3590.6699 - mae: 3590.6699\n",
            "Epoch 268/300\n",
            "34/34 [==============================] - 0s 4ms/step - loss: 3512.6943 - mae: 3512.6943\n",
            "Epoch 269/300\n",
            "34/34 [==============================] - 0s 4ms/step - loss: 3532.6360 - mae: 3532.6360\n",
            "Epoch 270/300\n",
            "34/34 [==============================] - 0s 4ms/step - loss: 3587.5974 - mae: 3587.5974\n",
            "Epoch 271/300\n",
            "34/34 [==============================] - 0s 4ms/step - loss: 3548.9993 - mae: 3548.9993\n",
            "Epoch 272/300\n",
            "34/34 [==============================] - 0s 4ms/step - loss: 3514.3936 - mae: 3514.3936\n",
            "Epoch 273/300\n",
            "34/34 [==============================] - 0s 4ms/step - loss: 3576.4233 - mae: 3576.4233\n",
            "Epoch 274/300\n",
            "34/34 [==============================] - 0s 4ms/step - loss: 3535.0952 - mae: 3535.0952\n",
            "Epoch 275/300\n",
            "34/34 [==============================] - 0s 4ms/step - loss: 3512.8479 - mae: 3512.8479\n",
            "Epoch 276/300\n",
            "34/34 [==============================] - 0s 4ms/step - loss: 3543.7258 - mae: 3543.7258\n",
            "Epoch 277/300\n",
            "34/34 [==============================] - 0s 4ms/step - loss: 3532.1028 - mae: 3532.1028\n",
            "Epoch 278/300\n",
            "34/34 [==============================] - 0s 4ms/step - loss: 3526.4104 - mae: 3526.4104\n",
            "Epoch 279/300\n",
            "34/34 [==============================] - 0s 4ms/step - loss: 3536.3174 - mae: 3536.3174\n",
            "Epoch 280/300\n",
            "34/34 [==============================] - 0s 4ms/step - loss: 3561.1255 - mae: 3561.1255\n",
            "Epoch 281/300\n",
            "34/34 [==============================] - 0s 4ms/step - loss: 3543.8616 - mae: 3543.8616\n",
            "Epoch 282/300\n",
            "34/34 [==============================] - 0s 4ms/step - loss: 3564.1160 - mae: 3564.1160\n",
            "Epoch 283/300\n",
            "34/34 [==============================] - 0s 4ms/step - loss: 3495.5835 - mae: 3495.5835\n",
            "Epoch 284/300\n",
            "34/34 [==============================] - 0s 4ms/step - loss: 3505.3784 - mae: 3505.3784\n",
            "Epoch 285/300\n",
            "34/34 [==============================] - 0s 4ms/step - loss: 3580.0991 - mae: 3580.0991\n",
            "Epoch 286/300\n",
            "34/34 [==============================] - 0s 4ms/step - loss: 3570.9116 - mae: 3570.9116\n",
            "Epoch 287/300\n",
            "34/34 [==============================] - 0s 4ms/step - loss: 3593.4919 - mae: 3593.4919\n",
            "Epoch 288/300\n",
            "34/34 [==============================] - 0s 4ms/step - loss: 3528.9702 - mae: 3528.9702\n",
            "Epoch 289/300\n",
            "34/34 [==============================] - 0s 4ms/step - loss: 3535.8992 - mae: 3535.8992\n",
            "Epoch 290/300\n",
            "34/34 [==============================] - 0s 4ms/step - loss: 3570.9482 - mae: 3570.9482\n",
            "Epoch 291/300\n",
            "34/34 [==============================] - 0s 4ms/step - loss: 3546.7612 - mae: 3546.7612\n",
            "Epoch 292/300\n",
            "34/34 [==============================] - 0s 4ms/step - loss: 3602.5688 - mae: 3602.5688\n",
            "Epoch 293/300\n",
            "34/34 [==============================] - 0s 4ms/step - loss: 3524.0840 - mae: 3524.0840\n",
            "Epoch 294/300\n",
            "34/34 [==============================] - 0s 4ms/step - loss: 3556.0796 - mae: 3556.0796\n",
            "Epoch 295/300\n",
            "34/34 [==============================] - 0s 4ms/step - loss: 3582.4346 - mae: 3582.4346\n",
            "Epoch 296/300\n",
            "34/34 [==============================] - 0s 4ms/step - loss: 3530.5505 - mae: 3530.5505\n",
            "Epoch 297/300\n",
            "34/34 [==============================] - 0s 4ms/step - loss: 3558.6147 - mae: 3558.6147\n",
            "Epoch 298/300\n",
            "34/34 [==============================] - 0s 4ms/step - loss: 3517.7405 - mae: 3517.7405\n",
            "Epoch 299/300\n",
            "34/34 [==============================] - 0s 5ms/step - loss: 3546.7744 - mae: 3546.7744\n",
            "Epoch 300/300\n",
            "34/34 [==============================] - 0s 4ms/step - loss: 3577.5249 - mae: 3577.5249\n"
          ]
        },
        {
          "output_type": "execute_result",
          "data": {
            "text/plain": [
              "<keras.callbacks.History at 0x7f88973c6050>"
            ]
          },
          "metadata": {},
          "execution_count": 60
        }
      ]
    },
    {
      "cell_type": "code",
      "metadata": {
        "colab": {
          "base_uri": "https://localhost:8080/"
        },
        "id": "7isoPqyRZp9S",
        "outputId": "99f54a13-f881-4fbd-e2b6-ca9e8c3e355f"
      },
      "source": [
        "#Evaluating our model on the normalized data\n",
        "model_2.evaluate(X_test_normal, y_test)"
      ],
      "execution_count": null,
      "outputs": [
        {
          "output_type": "stream",
          "name": "stdout",
          "text": [
            "9/9 [==============================] - 0s 2ms/step - loss: 3162.7246 - mae: 3162.7246\n"
          ]
        },
        {
          "output_type": "execute_result",
          "data": {
            "text/plain": [
              "[3162.724609375, 3162.724609375]"
            ]
          },
          "metadata": {},
          "execution_count": 61
        }
      ]
    },
    {
      "cell_type": "markdown",
      "metadata": {
        "id": "O7zD8L7oNBcL"
      },
      "source": []
    }
  ]
}